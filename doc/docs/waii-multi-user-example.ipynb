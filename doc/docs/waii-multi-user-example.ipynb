{
 "cells": [
  {
   "cell_type": "markdown",
   "metadata": {},
   "source": [
    "Example of multi-tenant user access and management on Waii\n",
    "\n",
    "Prequisite first: create two postgres databases, which will be used by the example later\n",
    "\n",
    "Run `sudo -u postgres psql` to open psql\n",
    "\n",
    "```\n",
    "-- Connect to PostgreSQL as the postgres superuser\n",
    "\n",
    "-- Create the first user\n",
    "CREATE USER waii_test_user1 WITH PASSWORD 'password1';\n",
    "\n",
    "-- Create the first database owned by waii_test_user1\n",
    "CREATE DATABASE waii_test_db1 OWNER waii_test_user1;\n",
    "\n",
    "-- Create the second user\n",
    "CREATE USER waii_test_user2 WITH PASSWORD 'password2';\n",
    "\n",
    "-- Create the second database owned by user2\n",
    "CREATE DATABASE waii_test_db2 OWNER waii_test_user2;\n",
    "\n",
    "-- Grant privileges (optional but recommended)\n",
    "GRANT ALL PRIVILEGES ON DATABASE waii_test_db1 TO waii_test_user1;\n",
    "GRANT ALL PRIVILEGES ON DATABASE waii_test_db2 TO waii_test_user2;\n",
    "```\n",
    "\n",
    "You can use other databases (such as snowflake, all the examples below is exchangeabe)"
   ]
  },
  {
   "cell_type": "code",
   "execution_count": 23,
   "metadata": {},
   "outputs": [
    {
     "name": "stdout",
     "output_type": "stream",
     "text": [
      "Found existing installation: waii-sdk-py 1.29.2\n",
      "Uninstalling waii-sdk-py-1.29.2:\n",
      "  Successfully uninstalled waii-sdk-py-1.29.2\n",
      "Collecting waii-sdk-py\n",
      "  Using cached waii_sdk_py-1.29.2-py3-none-any.whl.metadata (2.5 kB)\n",
      "Requirement already satisfied: pydantic==2.10.3 in /Users/wangdatan/projects/github/abi/waii-sdk-py/build-env/lib/python3.12/site-packages (2.10.3)\n",
      "Requirement already satisfied: annotated-types>=0.6.0 in /Users/wangdatan/projects/github/abi/waii-sdk-py/build-env/lib/python3.12/site-packages (from pydantic==2.10.3) (0.7.0)\n",
      "Requirement already satisfied: pydantic-core==2.27.1 in /Users/wangdatan/projects/github/abi/waii-sdk-py/build-env/lib/python3.12/site-packages (from pydantic==2.10.3) (2.27.1)\n",
      "Requirement already satisfied: typing-extensions>=4.12.2 in /Users/wangdatan/projects/github/abi/waii-sdk-py/build-env/lib/python3.12/site-packages (from pydantic==2.10.3) (4.12.2)\n",
      "Requirement already satisfied: requests in /Users/wangdatan/projects/github/abi/waii-sdk-py/build-env/lib/python3.12/site-packages (from waii-sdk-py) (2.32.3)\n",
      "Requirement already satisfied: charset-normalizer<4,>=2 in /Users/wangdatan/projects/github/abi/waii-sdk-py/build-env/lib/python3.12/site-packages (from requests->waii-sdk-py) (3.4.0)\n",
      "Requirement already satisfied: idna<4,>=2.5 in /Users/wangdatan/projects/github/abi/waii-sdk-py/build-env/lib/python3.12/site-packages (from requests->waii-sdk-py) (3.10)\n",
      "Requirement already satisfied: urllib3<3,>=1.21.1 in /Users/wangdatan/projects/github/abi/waii-sdk-py/build-env/lib/python3.12/site-packages (from requests->waii-sdk-py) (2.2.3)\n",
      "Requirement already satisfied: certifi>=2017.4.17 in /Users/wangdatan/projects/github/abi/waii-sdk-py/build-env/lib/python3.12/site-packages (from requests->waii-sdk-py) (2024.8.30)\n",
      "Using cached waii_sdk_py-1.29.2-py3-none-any.whl (50 kB)\n",
      "Installing collected packages: waii-sdk-py\n",
      "Successfully installed waii-sdk-py-1.29.2\n",
      "\n",
      "\u001b[1m[\u001b[0m\u001b[34;49mnotice\u001b[0m\u001b[1;39;49m]\u001b[0m\u001b[39;49m A new release of pip is available: \u001b[0m\u001b[31;49m24.2\u001b[0m\u001b[39;49m -> \u001b[0m\u001b[32;49m25.0.1\u001b[0m\n",
      "\u001b[1m[\u001b[0m\u001b[34;49mnotice\u001b[0m\u001b[1;39;49m]\u001b[0m\u001b[39;49m To update, run: \u001b[0m\u001b[32;49mpip install --upgrade pip\u001b[0m\n"
     ]
    }
   ],
   "source": [
    "!pip uninstall -y waii-sdk-py\n",
    "!pip install --upgrade waii-sdk-py pydantic==2.10.3"
   ]
  },
  {
   "cell_type": "code",
   "execution_count": 4,
   "metadata": {},
   "outputs": [],
   "source": [
    "# Now we are going to add some users\n",
    "# First, let's import all libraries\n",
    "# Import the main Waii SDK client\n",
    "from waii_sdk_py import Waii\n",
    "\n",
    "# Import specific modules\n",
    "from waii_sdk_py.chat import *\n",
    "from waii_sdk_py.query import *\n",
    "from waii_sdk_py.database import *\n",
    "from waii_sdk_py.semantic_context import *\n",
    "from waii_sdk_py.chart import *\n",
    "from waii_sdk_py.history import *\n",
    "from waii_sdk_py.user import *\n",
    "\n",
    "# Create admin client\n",
    "WAII_API_KEY = 'abc123'\n",
    "WAII_URL = 'http://localhost:9859/api/'\n",
    "\n",
    "admin_client = Waii()\n",
    "admin_client.initialize(api_key=WAII_API_KEY, url=WAII_URL)"
   ]
  },
  {
   "cell_type": "markdown",
   "metadata": {},
   "source": [
    "Important thing to check before you start: you must enable api-key-auth when you start Waii service.\n",
    "\n",
    "1) If you are using Waii SaaS deployment: you can skip this check.\n",
    "2) If you are using Docker or K8s deployment, you need to enable it (`api_key_auth_enabled`)\n",
    "   Check if it is enabled: \n",
    "\n",
    "   Open Waii UI using icognito window, you should see it pop up and ask you for an API key to login.\n",
    "\n",
    "   [ ] check"
   ]
  },
  {
   "cell_type": "code",
   "execution_count": null,
   "metadata": {},
   "outputs": [
    {
     "data": {
      "text/plain": [
       "CommonResponse()"
      ]
     },
     "execution_count": 4,
     "metadata": {},
     "output_type": "execute_result"
    }
   ],
   "source": [
    "# create an organization, let's call it fruit org\n",
    "admin_client.user.create_org(\n",
    "    CreateOrganizationRequest(\n",
    "        organization=Organization(\n",
    "            id='fruit-org',\n",
    "            name='Fruit Org'\n",
    "        )\n",
    "    )\n",
    ")\n",
    "\n",
    "# then create a banana tenant\n",
    "admin_client.user.create_tenant(\n",
    "    CreateTenantRequest(\n",
    "        tenant=Tenant(\n",
    "            id='banana-tenant',\n",
    "            name='Banana Tenant',\n",
    "            org_id='fruit-org'\n",
    "        )\n",
    "    )\n",
    ")\n",
    "\n",
    "# then create a apple tenant\n",
    "admin_client.user.create_tenant(\n",
    "    CreateTenantRequest(\n",
    "        tenant=Tenant(\n",
    "            id='apple-tenant',\n",
    "            name='Apple Tenant',\n",
    "            org_id='fruit-org'\n",
    "        )\n",
    "    )\n",
    ")\n",
    "\n",
    "# then create a user for banana tenant\n",
    "admin_client.user.create_user(\n",
    "    CreateUserRequest(\n",
    "        user=User(\n",
    "            id='banana-user',\n",
    "            name='Banana User',\n",
    "            tenant_id='banana-tenant',\n",
    "            org_id='fruit-org'\n",
    "        )\n",
    "    )\n",
    ")\n",
    "\n",
    "# then create a user for apple tenant\n",
    "admin_client.user.create_user(\n",
    "    CreateUserRequest(\n",
    "        user=User(\n",
    "            id='apple-user',\n",
    "            name='Apple User',\n",
    "            tenant_id='apple-tenant',\n",
    "            org_id='fruit-org'\n",
    "        )\n",
    "    )\n",
    ")\n",
    "\n",
    "# now we have 3 users:\n",
    "# - admin user\n",
    "# - banana user\n",
    "# - apple user"
   ]
  },
  {
   "cell_type": "code",
   "execution_count": 5,
   "metadata": {},
   "outputs": [
    {
     "name": "stdout",
     "output_type": "stream",
     "text": [
      "id='banana-user' name='Banana User' tenant_id='banana-tenant' org_id='fruit-org' variables=None roles=['waii-api-user']\n",
      "id='apple-user' name='Apple User' tenant_id='apple-tenant' org_id='fruit-org' variables=None roles=['waii-api-user']\n"
     ]
    }
   ],
   "source": [
    "# try to list these users\n",
    "current_users = admin_client.user.list_users(ListUsersRequest(lookup_org_id='fruit-org')).users\n",
    "for _u in current_users:\n",
    "    print(_u)\n",
    "    \n",
    "# you should see two users:\n",
    "# - banana user\n",
    "# - apple user"
   ]
  },
  {
   "cell_type": "code",
   "execution_count": 13,
   "metadata": {},
   "outputs": [
    {
     "name": "stdout",
     "output_type": "stream",
     "text": [
      "id='banana-user' name='Banana User' tenant_id='banana-tenant' org_id='fruit-org' variables=None roles=['waii-api-user']\n",
      "id='apple-user' name='Apple User' tenant_id='apple-tenant' org_id='fruit-org' variables=None roles=['waii-api-user']\n"
     ]
    }
   ],
   "source": [
    "# update the users\n",
    "# add waii-api-user role to banana user and apple user (keep other fields same)\n",
    "admin_client.user.update_user(\n",
    "    UpdateUserRequest(\n",
    "        user=User(\n",
    "            id='banana-user',\n",
    "            tenant_id='banana-tenant',\n",
    "            org_id='fruit-org',\n",
    "            name='Banana User',\n",
    "            roles=['waii-api-user']\n",
    "        )\n",
    "    )\n",
    ")\n",
    "admin_client.user.update_user(\n",
    "    UpdateUserRequest(\n",
    "        user=User(\n",
    "            id='apple-user',\n",
    "            name='Apple User',\n",
    "            roles=['waii-api-user'],\n",
    "            tenant_id='apple-tenant',\n",
    "            org_id='fruit-org'\n",
    "        )\n",
    "    )\n",
    ")\n",
    "        \n",
    "# get users again, you should be able to see the roles updated\n",
    "# you should be able to see roles=['waii-api-user'] from the response\n",
    "current_users = admin_client.user.list_users(ListUsersRequest(lookup_org_id='fruit-org')).users\n",
    "for _u in current_users:\n",
    "    print(_u)"
   ]
  },
  {
   "cell_type": "code",
   "execution_count": 7,
   "metadata": {},
   "outputs": [
    {
     "name": "stdout",
     "output_type": "stream",
     "text": [
      "<Response [400]>\n",
      "<Response [400]>\n"
     ]
    }
   ],
   "source": [
    "# now we try to create api keys for banana user and apple user\n",
    "# create api key for banana user\n",
    "# here it uses 'impersonate_user' to create api key for banana user\n",
    "# note that only super admin / org admin can do impersonate\n",
    "# the impersonate context will be cleared after the with block\n",
    "with admin_client.impersonate_user('banana-user'):\n",
    "    try:\n",
    "        banana_api_key = admin_client.user.create_access_key(\n",
    "            CreateAccessKeyRequest(\n",
    "                # the name is allow you to create named-api-key, you can create multiple api keys for the same user\n",
    "                # currently all the api keys under the same user are treated as the same user, but in the future we will\n",
    "                # support different api key permission for same user\n",
    "                name='default'\n",
    "            )\n",
    "        )[0].access_key\n",
    "    except:\n",
    "        banana_api_key = admin_client.user.list_access_keys(GetAccessKeyRequest()).access_keys[0].access_key\n",
    "\n",
    "# create api key for apple user\n",
    "with admin_client.impersonate_user('apple-user'):\n",
    "    try:\n",
    "        apple_api_key = admin_client.user.create_access_key(\n",
    "            CreateAccessKeyRequest(\n",
    "                name='default'\n",
    "            )\n",
    "        )[0].access_key\n",
    "    except:\n",
    "        apple_api_key = admin_client.user.list_access_keys(GetAccessKeyRequest()).access_keys[0].access_key"
   ]
  },
  {
   "cell_type": "code",
   "execution_count": 8,
   "metadata": {},
   "outputs": [
    {
     "name": "stdout",
     "output_type": "stream",
     "text": [
      "id='banana-user' name='Banana User' email='banana-user' roles=['waii-api-user'] permissions=['write:databases', 'read:similarity-search-index', 'read:liked-queries', 'write:semantic-context', 'read:databases', 'write:liked-queries', 'usage:api', 'read:semantic-context', 'write:access_key']\n",
      "id='apple-user' name='Apple User' email='apple-user' roles=['waii-api-user'] permissions=['write:databases', 'read:similarity-search-index', 'read:liked-queries', 'write:semantic-context', 'read:databases', 'write:liked-queries', 'usage:api', 'read:semantic-context', 'write:access_key']\n"
     ]
    }
   ],
   "source": [
    "# now we have 2 api keys:\n",
    "# - banana-api-key\n",
    "# - apple-api-key\n",
    "\n",
    "# we can create multiple waii clients with different api keys\n",
    "# and use them to access different tenants\n",
    "\n",
    "# create a waii client for banana user\n",
    "banana_client = Waii()\n",
    "banana_client.initialize(api_key=banana_api_key, url=WAII_URL)\n",
    "\n",
    "# create a waii client for apple user\n",
    "apple_client = Waii()\n",
    "apple_client.initialize(api_key=apple_api_key, url=WAII_URL)\n",
    "\n",
    "# now try to get user info from banana client\n",
    "banana_user_info = banana_client.user.get_user_info(GetUserInfoRequest())\n",
    "print(banana_user_info)\n",
    "\n",
    "# try to get user info from apple client\n",
    "apple_user_info = apple_client.user.get_user_info(GetUserInfoRequest())\n",
    "print(apple_user_info)\n",
    "\n",
    "# you should see the user info from banana client returns the banana user info, \n",
    "# and the apple client returns the apple user info\n",
    "\n",
    "# Note here: the waii client is very lightweight, it does not hold any state (just a few string variables to store the API key and url)\n",
    "# so you can create as many as you want, and use them interchangeably.\n",
    "# It also doesn't have any long-running session, so you don't need to care about the session expiration // resource consumption."
   ]
  },
  {
   "cell_type": "code",
   "execution_count": 12,
   "metadata": {},
   "outputs": [
    {
     "name": "stdout",
     "output_type": "stream",
     "text": [
      "connectors=[DBConnection(key='postgresql://waii_test_user1@localhost:5432/waii_test_db1', db_type='postgresql', description=None, account_name=None, username='waii_test_user1', password=None, database='waii_test_db1', warehouse=None, role=None, path=None, host='localhost', port=5432, parameters=None, sample_col_values=True, push=False, db_content_filters=None, embedding_model='text-embedding-ada-002', always_include_tables=None, alias=None, db_access_policy=DBAccessPolicy(read_only=False, allow_access_beyond_db_content_filter=True, allow_access_beyond_search_context=True), host_alias=None, user_alias=None, db_alias=None, client_email=None, content_filters=None, sample_filters=None, secure=True, waii_user_id='banana-user', external_authentication_uri=None, need_external_authentication=None)] diagnostics=None default_db_connection_key=None connector_status={'postgresql://waii_test_user1@localhost:5432/waii_test_db1': DBConnectionIndexingStatus(status='not-started', schema_status={}, index_percentage=100)}\n"
     ]
    }
   ],
   "source": [
    "# Now let's create some databases for banana user and apple user\n",
    "db_conn_1 = DBConnection(\n",
    "    db_type='postgresql',\n",
    "    host='localhost',\n",
    "    port=5432,\n",
    "    username='waii_test_user1',\n",
    "    password='password1',\n",
    "    database='waii_test_db1'\n",
    ")\n",
    "\n",
    "db_conn_2 = DBConnection(\n",
    "    db_type='postgresql',\n",
    "    host='localhost',\n",
    "    port=5432,\n",
    "    username='waii_test_user2',\n",
    "    password='password2',\n",
    "    database='waii_test_db2'\n",
    ")\n",
    "\n",
    "# add it to banana client\n",
    "all_conns = banana_client.database.modify_connections(\n",
    "    ModifyDBConnectionRequest(\n",
    "        updated=[db_conn_1]\n",
    "    )\n",
    ")\n",
    "print(all_conns)\n",
    "\n",
    "# you will see something like \n",
    "# connectors=[DBConnection(key='postgresql://waii_test_user1@localhost:5432/waii_test_db1'\n",
    "# now you can save the db_connection_key so we can use it later (such as activate, deletion, etc.)\n",
    "db1_conn_key = 'postgresql://waii_test_user1@localhost:5432/waii_test_db1'\n",
    "\n",
    "# now let's add db_conn_2 to apple client\n",
    "all_conns = apple_client.database.modify_connections(\n",
    "    ModifyDBConnectionRequest(\n",
    "        updated=[db_conn_2]\n",
    "    )\n",
    ")\n",
    "\n",
    "db2_conn_key = 'postgresql://waii_test_user2@localhost:5432/waii_test_db2'"
   ]
  },
  {
   "cell_type": "code",
   "execution_count": null,
   "metadata": {},
   "outputs": [
    {
     "name": "stdout",
     "output_type": "stream",
     "text": [
      "Running query on banana client\n",
      "[{'CURRENT_DATABASE': 'waii_test_db1'}]\n",
      "Running query on apple client\n",
      "[{'CURRENT_DATABASE': 'waii_test_db2'}]\n"
     ]
    }
   ],
   "source": [
    "# now you can activate the db_conn_key so the banana client // apple client can use it\n",
    "banana_client.database.activate_connection(db1_conn_key)\n",
    "apple_client.database.activate_connection(db2_conn_key)\n",
    "\n",
    "# if you run a query `SELECT current_database();`, you will see it differently\n",
    "print(\"Running query on banana client\")\n",
    "print(banana_client.query.run(RunQueryRequest(query='SELECT current_database();')).rows)\n",
    "print(\"Running query on apple client\")\n",
    "print(apple_client.query.run(RunQueryRequest(query='SELECT current_database();')).rows)\n"
   ]
  },
  {
   "cell_type": "code",
   "execution_count": 15,
   "metadata": {},
   "outputs": [
    {
     "name": "stdout",
     "output_type": "stream",
     "text": [
      "['postgresql://waii_test_user1@localhost:5432/waii_test_db1', 'postgresql://waii_test_user2@localhost:5432/waii_test_db2']\n",
      "[{'CURRENT_DATABASE': 'waii_test_db2'}]\n"
     ]
    }
   ],
   "source": [
    "# now we demonstrate adding multiple databases to the same user\n",
    "# let's add database2 to banana client too\n",
    "all_conns = banana_client.database.modify_connections(\n",
    "    ModifyDBConnectionRequest(\n",
    "        updated=[db_conn_2]\n",
    "    )\n",
    ")\n",
    "print([conn.key for conn in all_conns.connectors])\n",
    "\n",
    "# you will see:\n",
    "# ['postgresql://waii_test_user1@localhost:5432/waii_test_db1', \n",
    "#  'postgresql://waii_test_user2@localhost:5432/waii_test_db2']\n",
    "\n",
    "# we can activate the db_conn_2 for banana client\n",
    "banana_client.database.activate_connection(db2_conn_key)\n",
    "\n",
    "# now you can see the banana client can use db_conn_2\n",
    "print(banana_client.query.run(RunQueryRequest(query='SELECT current_database();')).rows)"
   ]
  },
  {
   "cell_type": "code",
   "execution_count": null,
   "metadata": {},
   "outputs": [
    {
     "name": "stdout",
     "output_type": "stream",
     "text": [
      "Deleting db_conn_2 from banana client\n",
      "['postgresql://waii_test_user1@localhost:5432/waii_test_db1']\n",
      "Deleting db_conn_1 from banana client too\n",
      "[]\n"
     ]
    }
   ],
   "source": [
    "# let's delete the db_conn_2 from banana client\n",
    "all_conns = banana_client.database.modify_connections(\n",
    "    ModifyDBConnectionRequest(\n",
    "        removed=[db2_conn_key]\n",
    "    )\n",
    ")\n",
    "# it has db_conn_1 only\n",
    "print(\"Deleting db_conn_2 from banana client\")\n",
    "print([conn.key for conn in all_conns.connectors])\n",
    "\n",
    "# delete the db_conn_1 too\n",
    "all_conns = banana_client.database.modify_connections(\n",
    "    ModifyDBConnectionRequest(\n",
    "        removed=[db1_conn_key]\n",
    "    )\n",
    ")\n",
    "# now the banana client has no database\n",
    "print(\"Deleting db_conn_1 from banana client too\")\n",
    "print([conn.key for conn in all_conns.connectors])\n"
   ]
  },
  {
   "cell_type": "code",
   "execution_count": 30,
   "metadata": {},
   "outputs": [
    {
     "name": "stdout",
     "output_type": "stream",
     "text": [
      "key=None db_type='postgresql' description=None account_name=None username='waii_test_user2' password='password2' database='waii_test_db2' warehouse=None role=None path=None host='localhost' port=5432 parameters=None sample_col_values=True push=False db_content_filters=None embedding_model=None always_include_tables=None alias=None db_access_policy=DBAccessPolicy(read_only=False, allow_access_beyond_db_content_filter=True, allow_access_beyond_search_context=True) host_alias=None user_alias=None db_alias=None client_email=None content_filters=None sample_filters=None\n"
     ]
    }
   ],
   "source": [
    "print(db_conn_2)"
   ]
  },
  {
   "cell_type": "code",
   "execution_count": 34,
   "metadata": {},
   "outputs": [
    {
     "name": "stdout",
     "output_type": "stream",
     "text": [
      "# Tables from banana client:\n",
      "9\n",
      "# Tables from apple client:\n",
      "9\n",
      "completed\n",
      "# Tables from banana client after modification:\n",
      "2\n",
      "# Tables from apple client after modification:\n",
      "2\n"
     ]
    }
   ],
   "source": [
    "# a helper function to get all tables from a database\n",
    "def get_all_tables(client: Waii):\n",
    "    catalog = client.database.get_catalogs(GetCatalogRequest())\n",
    "    table_names = []\n",
    "    for db in catalog.catalogs:\n",
    "        for schema in db.schemas:\n",
    "            for table in schema.tables:\n",
    "                table_names.append(table.name)\n",
    "    return table_names\n",
    "\n",
    "from waii_sdk_py.database.database import SearchContext\n",
    "\n",
    "# demonstrate modify the database connection for a user\n",
    "# let's add db_conn_2 to banana client again\n",
    "all_conns = banana_client.database.modify_connections(\n",
    "    ModifyDBConnectionRequest(\n",
    "        updated=[db_conn_2]\n",
    "    )\n",
    ")\n",
    "time.sleep(30)\n",
    "\n",
    "# activate the db_conn_2 for banana client\n",
    "banana_client.database.activate_connection(db2_conn_key)\n",
    "apple_client.database.activate_connection(db2_conn_key)\n",
    "\n",
    "# get all tables from banana client\n",
    "print(\"# Tables from banana client:\")\n",
    "print(len(get_all_tables(banana_client)))\n",
    "\n",
    "print(\"# Tables from apple client:\")\n",
    "print(len(get_all_tables(apple_client)))\n",
    "\n",
    "# and we will modify the db_conn_2\n",
    "db_conn_2_limited_tables = db_conn_2.copy(deep=True)\n",
    "# limit the content to information_schema.tables and information_schema.columns\n",
    "db_conn_2_limited_tables.content_filters = [\n",
    "    SearchContext(\n",
    "        db_name = '*',\n",
    "        schema_name = 'information_schema',\n",
    "        table_name = 'tables'\n",
    "    ),\n",
    "    SearchContext(\n",
    "        db_name = '*',\n",
    "        schema_name = 'information_schema',\n",
    "        table_name = 'columns'\n",
    "    )\n",
    "]\n",
    "\n",
    "# modify the db_conn_2 with limited tables (only have 2 tables)\n",
    "banana_client.database.modify_connections(\n",
    "    ModifyDBConnectionRequest(\n",
    "        updated=[db_conn_2_limited_tables]\n",
    "    )\n",
    ")\n",
    "\n",
    "# once this is modified, it will take a bit time to take effect\n",
    "# so let's monitor the status\n",
    "# it will take a while to take effect (to start indexing), so we will wait for 30 seconds before checking the status\n",
    "time.sleep(30)\n",
    "\n",
    "# monitoring status of the modification, and break once the the index is finished\n",
    "total_wait = 0\n",
    "while True:\n",
    "    connector_status = banana_client.database.get_connections().connector_status\n",
    "    status = connector_status[db2_conn_key]\n",
    "    if status.status == 'completed':\n",
    "        break\n",
    "    time.sleep(1)\n",
    "    total_wait += 1\n",
    "    print(f\"Waiting for the modification to take effect, total wait time: {total_wait} seconds...\")\n",
    "\n",
    "print(\"# Tables from banana client after modification:\")\n",
    "print(len(get_all_tables(banana_client)))\n",
    "\n",
    "print(\"# Tables from apple client after modification:\")\n",
    "print(len(get_all_tables(apple_client)))\n",
    "\n",
    "# As you can see, the update of the db_conn_2 is completed, and both of the banana client and apple client will have the same result\n",
    "# this is because the db_conn_2 is shared by both of the banana client and apple client (still have the same key)\n",
    "# This leaves a question, if we want to limit the content of the db_conn_2 to banana client only, how to do that?\n",
    "# let's see the next cell"
   ]
  },
  {
   "cell_type": "code",
   "execution_count": null,
   "metadata": {},
   "outputs": [
    {
     "name": "stdout",
     "output_type": "stream",
     "text": [
      "Banana client has the following connections:\n",
      "['postgresql://waii_test_user2@localhost:5432/waii_test_db2', 'waii://waii_test_user2@localhost/db_conn_2_alias_1']\n",
      "Apple client has the following connections:\n",
      "['postgresql://waii_test_user2@localhost:5432/waii_test_db2', 'waii://waii@host/db_conn_2_alias_2', 'waii://waii_test_user2@localhost/db_conn_2_alias_2']\n"
     ]
    },
    {
     "ename": "KeyboardInterrupt",
     "evalue": "",
     "output_type": "error",
     "traceback": [
      "\u001b[31m---------------------------------------------------------------------------\u001b[39m",
      "\u001b[31mKeyboardInterrupt\u001b[39m                         Traceback (most recent call last)",
      "\u001b[36mCell\u001b[39m\u001b[36m \u001b[39m\u001b[32mIn[37]\u001b[39m\u001b[32m, line 50\u001b[39m\n\u001b[32m     46\u001b[39m \u001b[38;5;28mprint\u001b[39m([conn.key \u001b[38;5;28;01mfor\u001b[39;00m conn \u001b[38;5;129;01min\u001b[39;00m all_conns.connectors])\n\u001b[32m     48\u001b[39m \u001b[38;5;66;03m# again, wait for 60 seconds for the system to index, you should still use the index status api, but \u001b[39;00m\n\u001b[32m     49\u001b[39m \u001b[38;5;66;03m# this time we just sleep to make it simpler\u001b[39;00m\n\u001b[32m---> \u001b[39m\u001b[32m50\u001b[39m \u001b[43mtime\u001b[49m\u001b[43m.\u001b[49m\u001b[43msleep\u001b[49m\u001b[43m(\u001b[49m\u001b[32;43m60\u001b[39;49m\u001b[43m)\u001b[49m\n",
      "\u001b[31mKeyboardInterrupt\u001b[39m: "
     ]
    }
   ],
   "source": [
    "# how to give a different view of the same database to different users?\n",
    "# the answer is to create a (db_alias) for the same database\n",
    "# let's call it db_conn_2_alias_1 and db_conn_2_alias_2\n",
    "\n",
    "# alias 1 will only have information_schema.tables (1 table)\n",
    "db_conn_2_alias_1 = db_conn_2.copy(deep=True)\n",
    "db_conn_2_alias_1.db_alias = 'db_conn_2_alias_1'\n",
    "db_conn_2_alias_1.content_filters = [\n",
    "    SearchContext(\n",
    "        db_name = '*',\n",
    "        schema_name = 'information_schema',\n",
    "        table_name = 'tables'\n",
    "    )\n",
    "]\n",
    "\n",
    "# alias 2 will have information_schema.tables and information_schema.columns (2 tables)\n",
    "db_conn_2_alias_2 = db_conn_2.copy(deep=True)\n",
    "db_conn_2_alias_2.db_alias = 'db_conn_2_alias_2'\n",
    "db_conn_2_alias_2.content_filters = [\n",
    "    SearchContext(\n",
    "        db_name = '*',\n",
    "        schema_name = 'information_schema',\n",
    "        table_name = 'columns'\n",
    "    ),\n",
    "    SearchContext(\n",
    "        db_name = '*',\n",
    "        schema_name = 'information_schema',\n",
    "        table_name = 'tables'\n",
    "    )\n",
    "]\n",
    "\n",
    "# now we add the db_conn_2_alias_1 to banana client, and db_conn_2_alias_2 to apple client\n",
    "all_conns = banana_client.database.modify_connections(\n",
    "    ModifyDBConnectionRequest(\n",
    "        updated=[db_conn_2_alias_1]\n",
    "    )\n",
    ")\n",
    "print(\"Banana client has the following connections:\")\n",
    "print([conn.key for conn in all_conns.connectors])\n",
    "\n",
    "all_conns = apple_client.database.modify_connections(\n",
    "    ModifyDBConnectionRequest(\n",
    "        updated=[db_conn_2_alias_2]\n",
    "    )\n",
    ")\n",
    "\n",
    "print(\"Apple client has the following connections:\")\n",
    "print([conn.key for conn in all_conns.connectors])\n",
    "\n",
    "# again, wait for 60 seconds for the system to index, you should still use the index status api, but \n",
    "# this time we just sleep to make it simpler\n",
    "time.sleep(60)\n"
   ]
  },
  {
   "cell_type": "code",
   "execution_count": 38,
   "metadata": {},
   "outputs": [
    {
     "name": "stdout",
     "output_type": "stream",
     "text": [
      "# Tables from banana client - alias 1:\n",
      "1\n",
      "# Tables from banana client - alias 2:\n",
      "2\n"
     ]
    }
   ],
   "source": [
    "# Ha! As you can see, we have another db_connection with a different key\n",
    "# waii://waii_test_user2@localhost/db_conn_2_alias_1 and 'waii://waii_test_user2@localhost/db_conn_2_alias_2\n",
    "# which creates a different view of the same database\n",
    "\n",
    "db_conn_2_alias_1_key = 'waii://waii_test_user2@localhost/db_conn_2_alias_1'\n",
    "db_conn_2_alias_2_key = 'waii://waii_test_user2@localhost/db_conn_2_alias_2'\n",
    "\n",
    "# let's try to get number of tables from banana client\n",
    "print(\"# Tables from banana client - alias 1:\")\n",
    "banana_client.database.activate_connection(db_conn_2_alias_1_key)\n",
    "print(len(get_all_tables(banana_client)))\n",
    "\n",
    "print(\"# Tables from banana client - alias 2:\")\n",
    "apple_client.database.activate_connection(db_conn_2_alias_2_key)\n",
    "print(len(get_all_tables(apple_client)))"
   ]
  }
 ],
 "metadata": {
  "kernelspec": {
   "display_name": "build-env",
   "language": "python",
   "name": "python3"
  },
  "language_info": {
   "codemirror_mode": {
    "name": "ipython",
    "version": 3
   },
   "file_extension": ".py",
   "mimetype": "text/x-python",
   "name": "python",
   "nbconvert_exporter": "python",
   "pygments_lexer": "ipython3",
   "version": "3.12.9"
  }
 },
 "nbformat": 4,
 "nbformat_minor": 2
}
