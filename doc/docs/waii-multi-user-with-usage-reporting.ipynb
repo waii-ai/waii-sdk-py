{
 "cells": [
  {
   "cell_type": "markdown",
   "metadata": {},
   "source": [
    "Example of multi-tenant user access and management on Waii\n",
    "\n",
    "Prequisite first: create two postgres databases, which will be used by the example later\n",
    "\n",
    "Run `sudo -u postgres psql` to open psql\n",
    "\n",
    "```\n",
    "-- Connect to PostgreSQL as the postgres superuser\n",
    "\n",
    "-- Create the first user\n",
    "CREATE USER waii_test_user1 WITH PASSWORD 'password1';\n",
    "\n",
    "-- Create the first database owned by waii_test_user1\n",
    "CREATE DATABASE waii_test_db1 OWNER waii_test_user1;\n",
    "\n",
    "-- Create the second user\n",
    "CREATE USER waii_test_user2 WITH PASSWORD 'password2';\n",
    "\n",
    "-- Create the second database owned by user2\n",
    "CREATE DATABASE waii_test_db2 OWNER waii_test_user2;\n",
    "\n",
    "-- Grant privileges (optional but recommended)\n",
    "GRANT ALL PRIVILEGES ON DATABASE waii_test_db1 TO waii_test_user1;\n",
    "GRANT ALL PRIVILEGES ON DATABASE waii_test_db2 TO waii_test_user2;\n",
    "```\n",
    "\n",
    "You can use other databases (such as snowflake, all the examples below is exchangeabe)"
   ]
  },
  {
   "cell_type": "code",
   "execution_count": 3,
   "metadata": {},
   "outputs": [
    {
     "name": "stdout",
     "output_type": "stream",
     "text": [
      "Found existing installation: waii-sdk-py 1.29.2\n",
      "Uninstalling waii-sdk-py-1.29.2:\n",
      "  Successfully uninstalled waii-sdk-py-1.29.2\n",
      "Collecting waii-sdk-py\n",
      "  Using cached waii_sdk_py-1.29.2-py3-none-any.whl.metadata (2.5 kB)\n",
      "Requirement already satisfied: pydantic==2.10.3 in /Users/waiiadmin/waii-sdk-py/venv/lib/python3.12/site-packages (2.10.3)\n",
      "Requirement already satisfied: annotated-types>=0.6.0 in /Users/waiiadmin/waii-sdk-py/venv/lib/python3.12/site-packages (from pydantic==2.10.3) (0.7.0)\n",
      "Requirement already satisfied: pydantic-core==2.27.1 in /Users/waiiadmin/waii-sdk-py/venv/lib/python3.12/site-packages (from pydantic==2.10.3) (2.27.1)\n",
      "Requirement already satisfied: typing-extensions>=4.12.2 in /Users/waiiadmin/waii-sdk-py/venv/lib/python3.12/site-packages (from pydantic==2.10.3) (4.12.2)\n",
      "Requirement already satisfied: requests in /Users/waiiadmin/waii-sdk-py/venv/lib/python3.12/site-packages (from waii-sdk-py) (2.32.3)\n",
      "Requirement already satisfied: charset-normalizer<4,>=2 in /Users/waiiadmin/waii-sdk-py/venv/lib/python3.12/site-packages (from requests->waii-sdk-py) (3.3.2)\n",
      "Requirement already satisfied: idna<4,>=2.5 in /Users/waiiadmin/waii-sdk-py/venv/lib/python3.12/site-packages (from requests->waii-sdk-py) (3.7)\n",
      "Requirement already satisfied: urllib3<3,>=1.21.1 in /Users/waiiadmin/waii-sdk-py/venv/lib/python3.12/site-packages (from requests->waii-sdk-py) (2.2.2)\n",
      "Requirement already satisfied: certifi>=2017.4.17 in /Users/waiiadmin/waii-sdk-py/venv/lib/python3.12/site-packages (from requests->waii-sdk-py) (2024.7.4)\n",
      "Using cached waii_sdk_py-1.29.2-py3-none-any.whl (50 kB)\n",
      "Installing collected packages: waii-sdk-py\n",
      "Successfully installed waii-sdk-py-1.29.2\n",
      "\n",
      "\u001b[1m[\u001b[0m\u001b[34;49mnotice\u001b[0m\u001b[1;39;49m]\u001b[0m\u001b[39;49m A new release of pip is available: \u001b[0m\u001b[31;49m24.0\u001b[0m\u001b[39;49m -> \u001b[0m\u001b[32;49m25.0.1\u001b[0m\n",
      "\u001b[1m[\u001b[0m\u001b[34;49mnotice\u001b[0m\u001b[1;39;49m]\u001b[0m\u001b[39;49m To update, run: \u001b[0m\u001b[32;49mpip install --upgrade pip\u001b[0m\n"
     ]
    }
   ],
   "source": [
    "!pip uninstall -y waii-sdk-py\n",
    "!pip install --upgrade waii-sdk-py pydantic==2.10.3"
   ]
  },
  {
   "cell_type": "code",
   "execution_count": 4,
   "metadata": {},
   "outputs": [],
   "source": [
    "# Now we are going to add some users\n",
    "# First, let's import all libraries\n",
    "# Import the main Waii SDK client\n",
    "from waii_sdk_py import Waii\n",
    "\n",
    "# Import specific modules\n",
    "from waii_sdk_py.chat import *\n",
    "from waii_sdk_py.query import *\n",
    "from waii_sdk_py.database import *\n",
    "from waii_sdk_py.semantic_context import *\n",
    "from waii_sdk_py.chart import *\n",
    "from waii_sdk_py.history import *\n",
    "from waii_sdk_py.user import *\n",
    "\n",
    "# Create admin client\n",
    "WAII_API_KEY = 'test'\n",
    "WAII_URL = 'http://localhost:3456/api/'\n",
    "\n",
    "admin_client = Waii()\n",
    "admin_client.initialize(api_key=WAII_API_KEY, url=WAII_URL)"
   ]
  },
  {
   "cell_type": "markdown",
   "metadata": {},
   "source": [
    "Important thing to check before you start: you must enable api-key-auth when you start Waii service.\n",
    "\n",
    "1) If you are using Waii SaaS deployment: you can skip this check.\n",
    "2) If you are using Docker or K8s deployment, you need to enable it (`api_key_auth_enabled`)\n",
    "   Check if it is enabled: \n",
    "\n",
    "   Open Waii UI using icognito window, you should see it pop up and ask you for an API key to login.\n",
    "\n",
    "   [ ] check"
   ]
  },
  {
   "cell_type": "code",
   "execution_count": 5,
   "metadata": {},
   "outputs": [
    {
     "data": {
      "text/plain": [
       "CommonResponse()"
      ]
     },
     "execution_count": 5,
     "metadata": {},
     "output_type": "execute_result"
    }
   ],
   "source": [
    "# create an organization, let's call it fruit org\n",
    "admin_client.user.create_org(\n",
    "    CreateOrganizationRequest(\n",
    "        organization=Organization(\n",
    "            id='fruit-org',\n",
    "            name='Fruit Org'\n",
    "        )\n",
    "    )\n",
    ")\n",
    "\n",
    "# then create a banana tenant\n",
    "admin_client.user.create_tenant(\n",
    "    CreateTenantRequest(\n",
    "        tenant=Tenant(\n",
    "            id='banana-tenant',\n",
    "            name='Banana Tenant',\n",
    "            org_id='fruit-org'\n",
    "        )\n",
    "    )\n",
    ")\n",
    "\n",
    "\n",
    "# then create a apple tenant\n",
    "admin_client.user.create_tenant(\n",
    "    CreateTenantRequest(\n",
    "        tenant=Tenant(\n",
    "            id='apple-tenant',\n",
    "            name='Apple Tenant',\n",
    "            org_id='fruit-org'\n",
    "        )\n",
    "    )\n",
    ")\n",
    "\n",
    "# then create a user for banana tenant\n",
    "admin_client.user.create_user(\n",
    "    CreateUserRequest(\n",
    "        user=User(\n",
    "            id='banana-user',\n",
    "            name='Banana User',\n",
    "            tenant_id='banana-tenant',\n",
    "            org_id='fruit-org'\n",
    "        )\n",
    "    )\n",
    ")\n",
    "\n",
    "# then create a user for apple tenant\n",
    "admin_client.user.create_user(\n",
    "    CreateUserRequest(\n",
    "        user=User(\n",
    "            id='apple-user',\n",
    "            name='Apple User',\n",
    "            tenant_id='apple-tenant',\n",
    "            org_id='fruit-org'\n",
    "        )\n",
    "    )\n",
    ")\n",
    "\n",
    "# now we have 3 users:\n",
    "# - admin user\n",
    "# - banana user\n",
    "# - apple user"
   ]
  },
  {
   "cell_type": "code",
   "execution_count": 6,
   "metadata": {},
   "outputs": [
    {
     "name": "stdout",
     "output_type": "stream",
     "text": [
      "id='banana-user' name='Banana User' tenant_id='banana-tenant' org_id='fruit-org' variables=None roles=[]\n",
      "id='apple-user' name='Apple User' tenant_id='apple-tenant' org_id='fruit-org' variables=None roles=[]\n"
     ]
    }
   ],
   "source": [
    "# try to list these users\n",
    "current_users = admin_client.user.list_users(ListUsersRequest(lookup_org_id='fruit-org')).users\n",
    "for _u in current_users:\n",
    "    print(_u)\n",
    "    \n",
    "# you should see two users:\n",
    "# - banana user\n",
    "# - apple user"
   ]
  },
  {
   "cell_type": "code",
   "execution_count": 7,
   "metadata": {},
   "outputs": [
    {
     "name": "stdout",
     "output_type": "stream",
     "text": [
      "id='banana-user' name='Banana User' tenant_id='banana-tenant' org_id='fruit-org' variables=None roles=['waii-org-admin-user']\n",
      "id='apple-user' name='Apple User' tenant_id='apple-tenant' org_id='fruit-org' variables=None roles=['waii-org-admin-user']\n"
     ]
    }
   ],
   "source": [
    "# update the users\n",
    "# add waii-api-user role to banana user and apple user (keep other fields same)\n",
    "admin_client.user.update_user(\n",
    "    UpdateUserRequest(\n",
    "        user=User(\n",
    "            id='banana-user',\n",
    "            tenant_id='banana-tenant',\n",
    "            org_id='fruit-org',\n",
    "            name='Banana User',\n",
    "            roles=['waii-org-admin-user']\n",
    "        )\n",
    "    )\n",
    ")\n",
    "admin_client.user.update_user(\n",
    "    UpdateUserRequest(\n",
    "        user=User(\n",
    "            id='apple-user',\n",
    "            name='Apple User',\n",
    "            roles=['waii-org-admin-user'],\n",
    "            tenant_id='apple-tenant',\n",
    "            org_id='fruit-org'\n",
    "        )\n",
    "    )\n",
    ")\n",
    "        \n",
    "# get users again, you should be able to see the roles updated\n",
    "# you should be able to see roles=['waii-api-user'] from the response\n",
    "current_users = admin_client.user.list_users(ListUsersRequest(lookup_org_id='fruit-org')).users\n",
    "for _u in current_users:\n",
    "    print(_u)"
   ]
  },
  {
   "cell_type": "code",
   "execution_count": 8,
   "metadata": {},
   "outputs": [],
   "source": [
    "# now we try to create api keys for banana user and apple user\n",
    "# create api key for banana user\n",
    "# here it uses 'impersonate_user' to create api key for banana user\n",
    "# note that only super admin / org admin can do impersonate\n",
    "# the impersonate context will be cleared after the with block\n",
    "with admin_client.impersonate_user('banana-user'):\n",
    "    try:\n",
    "        banana_api_key = admin_client.user.create_access_key(\n",
    "            CreateAccessKeyRequest(\n",
    "                # the name is allow you to create named-api-key, you can create multiple api keys for the same user\n",
    "                # currently all the api keys under the same user are treated as the same user, but in the future we will\n",
    "                # support different api key permission for same user\n",
    "                name='default'\n",
    "            )\n",
    "        )[0].access_key\n",
    "    except:\n",
    "        # do a try catch here because the api key might already exists, so we just get it.\n",
    "        banana_api_key = admin_client.user.list_access_keys(GetAccessKeyRequest()).access_keys[0].access_key\n",
    "\n",
    "# create api key for apple user\n",
    "with admin_client.impersonate_user('apple-user'):\n",
    "    try:\n",
    "        apple_api_key = admin_client.user.create_access_key(\n",
    "            CreateAccessKeyRequest(\n",
    "                name='default'\n",
    "            )\n",
    "        )[0].access_key\n",
    "    except:\n",
    "        apple_api_key = admin_client.user.list_access_keys(GetAccessKeyRequest()).access_keys[0].access_key"
   ]
  },
  {
   "cell_type": "code",
   "execution_count": 9,
   "metadata": {},
   "outputs": [
    {
     "name": "stdout",
     "output_type": "stream",
     "text": [
      "id='banana-user' name='Banana User' email='banana-user' roles=['waii-org-admin-user'] permissions=['write:access_key', 'read:org', 'write:similarity-search-index', 'usage:api', 'read:liked-queries', 'write:semantic-context', 'read:tenant', 'publish:semantic-context', 'publish:access-rules', 'push:databases', 'write:user', 'publish:liked-queries', 'write:databases', 'read:similarity-search-index', 'usage:impersonation', 'write:tenant', 'write:liked-queries', 'read:usage-report', 'read:user', 'read:databases', 'read:semantic-context']\n",
      "id='apple-user' name='Apple User' email='apple-user' roles=['waii-org-admin-user'] permissions=['write:access_key', 'read:org', 'write:similarity-search-index', 'usage:api', 'read:liked-queries', 'write:semantic-context', 'read:tenant', 'publish:semantic-context', 'publish:access-rules', 'push:databases', 'write:user', 'publish:liked-queries', 'write:databases', 'read:similarity-search-index', 'usage:impersonation', 'write:tenant', 'write:liked-queries', 'read:usage-report', 'read:user', 'read:databases', 'read:semantic-context']\n"
     ]
    }
   ],
   "source": [
    "# now we have 2 api keys:\n",
    "# - banana-api-key\n",
    "# - apple-api-key\n",
    "\n",
    "# we can create multiple waii clients with different api keys\n",
    "# and use them to access different tenants\n",
    "\n",
    "# create a waii client for banana user\n",
    "banana_client = Waii()\n",
    "banana_client.initialize(api_key=banana_api_key, url=WAII_URL)\n",
    "\n",
    "# create a waii client for apple user\n",
    "apple_client = Waii()\n",
    "apple_client.initialize(api_key=apple_api_key, url=WAII_URL)\n",
    "\n",
    "# now try to get user info from banana client\n",
    "banana_user_info = banana_client.user.get_user_info(GetUserInfoRequest())\n",
    "print(banana_user_info)\n",
    "\n",
    "# try to get user info from apple client\n",
    "apple_user_info = apple_client.user.get_user_info(GetUserInfoRequest())\n",
    "print(apple_user_info)\n",
    "\n",
    "# you should see the user info from banana client returns the banana user info, \n",
    "# and the apple client returns the apple user info\n",
    "\n",
    "# Note here: the waii client is very lightweight, it does not hold any state (just a few string variables to store the API key and url)\n",
    "# so you can create as many as you want, and use them interchangeably.\n",
    "# It also doesn't have any long-running session, so you don't need to care about the session expiration // resource consumption."
   ]
  },
  {
   "cell_type": "code",
   "execution_count": 10,
   "metadata": {},
   "outputs": [
    {
     "data": {
      "text/plain": [
       "GetDBConnectionResponse(connectors=[DBConnection(key='waii://waii@host/waii-usage-reporting', db_type='postgresql', description=None, account_name=None, username=None, password=None, database='waii-usage-reporting', warehouse=None, role=None, path=None, host=None, port=None, parameters=None, sample_col_values=True, push=False, db_content_filters=None, embedding_model=None, always_include_tables=None, alias=None, db_access_policy=DBAccessPolicy(read_only=False, allow_access_beyond_db_content_filter=True, allow_access_beyond_search_context=True), host_alias=None, user_alias=None, db_alias=None, client_email=None, content_filters=None, sample_filters=None, external_authentication_uri=None, waii_user_id=None, secure=True, need_external_authentication=None), DBConnection(key='snowflake://WAII@gqobxjv-bhb91428/MOVIE_DB?role=WAII_USER_ROLE&warehouse=COMPUTE_WH', db_type='snowflake', description=None, account_name='gqobxjv-bhb91428', username='WAII', password=None, database='MOVIE_DB', warehouse='COMPUTE_WH', role='WAII_USER_ROLE', path=None, host=None, port=None, parameters=None, sample_col_values=True, push=False, db_content_filters=None, embedding_model='text-embedding-ada-002', always_include_tables=None, alias=None, db_access_policy=DBAccessPolicy(read_only=False, allow_access_beyond_db_content_filter=True, allow_access_beyond_search_context=True), host_alias=None, user_alias=None, db_alias=None, client_email=None, content_filters=None, sample_filters=None, external_authentication_uri=None, waii_user_id='apple-user', secure=True, need_external_authentication=None)], diagnostics=None, default_db_connection_key=None, connector_status={'waii://waii@host/waii-usage-reporting': DBConnectionIndexingStatus(status='completed', schema_status={'TEST.WAII': SchemaIndexingStatus(n_pending_indexing_tables=0, n_total_tables=5, status='completed'), 'TEST.INFORMATION_SCHEMA': SchemaIndexingStatus(n_pending_indexing_tables=0, n_total_tables=2, status='completed')}, index_percentage=100), 'snowflake://WAII@gqobxjv-bhb91428/MOVIE_DB?role=WAII_USER_ROLE&warehouse=COMPUTE_WH': DBConnectionIndexingStatus(status='completed', schema_status={'MOVIE_DB.INFORMATION_SCHEMA': SchemaIndexingStatus(n_pending_indexing_tables=0, n_total_tables=42, status='completed'), 'MOVIE_DB.MOVIES_AND_TV': SchemaIndexingStatus(n_pending_indexing_tables=0, n_total_tables=41, status='completed')}, index_percentage=100)})"
      ]
     },
     "execution_count": 10,
     "metadata": {},
     "output_type": "execute_result"
    }
   ],
   "source": [
    "banana_client.database.get_connections()"
   ]
  },
  {
   "cell_type": "code",
   "execution_count": 11,
   "metadata": {},
   "outputs": [
    {
     "data": {
      "text/plain": [
       "GetDBConnectionResponse(connectors=[DBConnection(key='waii://waii@host/waii-usage-reporting', db_type='postgresql', description=None, account_name=None, username=None, password=None, database='waii-usage-reporting', warehouse=None, role=None, path=None, host=None, port=None, parameters=None, sample_col_values=True, push=False, db_content_filters=None, embedding_model=None, always_include_tables=None, alias=None, db_access_policy=DBAccessPolicy(read_only=False, allow_access_beyond_db_content_filter=True, allow_access_beyond_search_context=True), host_alias=None, user_alias=None, db_alias=None, client_email=None, content_filters=None, sample_filters=None, external_authentication_uri=None, waii_user_id=None, secure=True, need_external_authentication=None), DBConnection(key='snowflake://WAII@gqobxjv-bhb91428/MOVIE_DB?role=WAII_USER_ROLE&warehouse=COMPUTE_WH', db_type='snowflake', description=None, account_name='gqobxjv-bhb91428', username='WAII', password=None, database='MOVIE_DB', warehouse='COMPUTE_WH', role='WAII_USER_ROLE', path=None, host=None, port=None, parameters=None, sample_col_values=True, push=False, db_content_filters=None, embedding_model='text-embedding-ada-002', always_include_tables=None, alias=None, db_access_policy=DBAccessPolicy(read_only=False, allow_access_beyond_db_content_filter=True, allow_access_beyond_search_context=True), host_alias=None, user_alias=None, db_alias=None, client_email=None, content_filters=None, sample_filters=None, external_authentication_uri=None, waii_user_id='apple-user', secure=True, need_external_authentication=None)], diagnostics=None, default_db_connection_key=None, connector_status={'waii://waii@host/waii-usage-reporting': DBConnectionIndexingStatus(status='completed', schema_status={'TEST.WAII': SchemaIndexingStatus(n_pending_indexing_tables=0, n_total_tables=5, status='completed'), 'TEST.INFORMATION_SCHEMA': SchemaIndexingStatus(n_pending_indexing_tables=0, n_total_tables=2, status='completed')}, index_percentage=100), 'snowflake://WAII@gqobxjv-bhb91428/MOVIE_DB?role=WAII_USER_ROLE&warehouse=COMPUTE_WH': DBConnectionIndexingStatus(status='completed', schema_status={'MOVIE_DB.INFORMATION_SCHEMA': SchemaIndexingStatus(n_pending_indexing_tables=0, n_total_tables=42, status='completed'), 'MOVIE_DB.MOVIES_AND_TV': SchemaIndexingStatus(n_pending_indexing_tables=0, n_total_tables=41, status='completed')}, index_percentage=100)})"
      ]
     },
     "execution_count": 11,
     "metadata": {},
     "output_type": "execute_result"
    }
   ],
   "source": [
    "apple_client.database.get_connections()"
   ]
  }
 ],
 "metadata": {
  "kernelspec": {
   "display_name": "venv",
   "language": "python",
   "name": "python3"
  },
  "language_info": {
   "codemirror_mode": {
    "name": "ipython",
    "version": 3
   },
   "file_extension": ".py",
   "mimetype": "text/x-python",
   "name": "python",
   "nbconvert_exporter": "python",
   "pygments_lexer": "ipython3",
   "version": "3.12.9"
  }
 },
 "nbformat": 4,
 "nbformat_minor": 2
}
